{
 "cells": [
  {
   "cell_type": "markdown",
   "id": "23a3fb5a-2ffd-473b-9d2e-196bb4f31697",
   "metadata": {},
   "source": [
    "# Michael Norris\n",
    "Notebook for assignment 7"
   ]
  },
  {
   "cell_type": "code",
   "execution_count": 7,
   "id": "d7dc4dce-8128-461c-84be-f4d9f5cda073",
   "metadata": {},
   "outputs": [
    {
     "data": {
      "text/plain": [
       "5.0"
      ]
     },
     "execution_count": 7,
     "metadata": {},
     "output_type": "execute_result"
    }
   ],
   "source": [
    "def compute_mean(numbers):\n",
    "    if not numbers:\n",
    "        return None\n",
    "    return sum(numbers)/len(numbers)\n",
    "compute_mean([2,4,6,8])"
   ]
  },
  {
   "cell_type": "markdown",
   "id": "e324e5de-ce59-48da-af52-f99d8b80ef26",
   "metadata": {},
   "source": [
    "the function adds the numbers in a list together then divides that sum by the length of the list to provide a mean.\n",
    "\n",
    "$$\n",
    "\\bar{x} = \\frac{x_1 + x_2 + ... + x_n}{n} = \\frac{1}{n} \\sum_{i=1}^{n} x_i\n",
    "$$"
   ]
  },
  {
   "cell_type": "markdown",
   "id": "d3ce47cf-e2ed-4aa1-b77c-bede883b50e2",
   "metadata": {},
   "source": [
    "[Screen Shot Photo](https://github.com/MichaelN0rris/jupyterlab_practice/blob/60dc26da634df5bbaace494d07ce0e70d45404a8/Screenshot%202025-03-02%20at%209.52.22%E2%80%AFPM.png)"
   ]
  }
 ],
 "metadata": {
  "kernelspec": {
   "display_name": "Python [conda env:base] *",
   "language": "python",
   "name": "conda-base-py"
  },
  "language_info": {
   "codemirror_mode": {
    "name": "ipython",
    "version": 3
   },
   "file_extension": ".py",
   "mimetype": "text/x-python",
   "name": "python",
   "nbconvert_exporter": "python",
   "pygments_lexer": "ipython3",
   "version": "3.12.2"
  }
 },
 "nbformat": 4,
 "nbformat_minor": 5
}
